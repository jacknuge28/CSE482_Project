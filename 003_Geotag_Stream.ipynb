{
 "cells": [
  {
   "cell_type": "code",
   "execution_count": 1,
   "id": "a2827a31",
   "metadata": {},
   "outputs": [],
   "source": [
    "import tweepy\n",
    "from tweepy import OAuthHandler\n",
    "from tweepy import API\n",
    "\n",
    "import time\n",
    "from tweepy import Stream\n",
    "from dateutil import parser\n",
    "import json\n",
    "\n",
    "# Jack Nugent Keys\n",
    "C_KEY = 'qDLzDR1kgKZrwc0nfCiknCNak'\n",
    "C_SECRET = '0siNqGf4CSQVM2EL2JTYKq0fqBN7VXtTXv2MSyUAiiX5V1DBeG'\n",
    "A_TOKEN_KEY = '762757536827121664-YNdvEO2FsulfLcjUJcezb5OMRx3Nlgs'\n",
    "A_TOKEN_SECRET = '88DYUdSwCfWmNlBWbY9It8uFqajxE7NMMRS4moZbdjz4k'\n",
    "BEARER = \"AAAAAAAAAAAAAAAAAAAAAOCnhQEAAAAABJxPmDWLGJXfFdBa9Nprs%2BfFHus%3De6Qt9gjlzObpDy4HIWJWMQUXXLE6nkNUF3Drkv6QLkZezBn4JU\""
   ]
  },
  {
   "cell_type": "code",
   "execution_count": 2,
   "id": "57d63759",
   "metadata": {},
   "outputs": [],
   "source": [
    "FILE = 'output_geotag_day2.json'\n",
    "\n",
    "class MyStreamingClient(tweepy.StreamingClient):\n",
    "    def __init__(self, bearer_token, time_limit=7200):\n",
    "        self.start_time = time.time()\n",
    "        self.limit = time_limit\n",
    "        self.outFile = open(FILE, 'w')\n",
    "        super(MyStreamingClient, self).__init__(bearer_token)\n",
    "        \n",
    "#     def on_data(self, data_item):\n",
    "        \n",
    "#         ### Modify on_data\n",
    "#         dict_data = {}\n",
    "#         try:\n",
    "#             data = json.loads(data_item)\n",
    "#             if data['coordinates'] or data['geo']:\n",
    "#                 print(\"COORDS:\",data['coordinates'], '\\nGEO:', data['geo'])\n",
    "#                 dict_data['created_at'] = parser.parse(data['created_at'], ignoretz=True)\n",
    "#                 dict_data['text'] = data['text']\n",
    "#                 dict_data['id_str'] = data['id_str']\n",
    "#                 dict_data['user_id'] = data['user']['id_str']\n",
    "#                 dict_data['user_name'] = data['user']['id_str']\n",
    "#                 dict_data['lat'] = str(data['coordinates']['coordinates'][1])\n",
    "#                 dict_data['lon'] = str(data['coordinates']['coordinates'][0])\n",
    "#                 dict_data['language'] = data['user']['lang']\n",
    "                \n",
    "#             print(dict_data)\n",
    "#             self.outFile.write(json.dumps(dict_data))\n",
    "#             self.outFile.write('\\n')\n",
    "#         except:\n",
    "# #             print('FAIL')\n",
    "#             pass\n",
    "#         ###\n",
    "\n",
    "#         if (time.time() - self.start_time) < self.limit:\n",
    "#             return True\n",
    "#         else:\n",
    "#             self.outFile.close()\n",
    "#             self.disconnect()\n",
    "#             return False\n",
    "\n",
    "    def on_data(self, data):\n",
    "        if (time.time() - self.start_time) < self.limit:\n",
    "            self.outFile.write(data.decode(\"utf-8\"))\n",
    "            self.outFile.write('\\n')\n",
    "            return True\n",
    "        else:\n",
    "            self.outFile.close()\n",
    "            self.disconnect()\n",
    "            return False\n",
    "        \n",
    "    def on_error(self, status):\n",
    "        print(status)\n",
    "\n",
    "# Function to remove all rules from an existing stream_client\n",
    "def remove_rules(stream_client):\n",
    "    rules = list(stream_client.get_rules())[0]\n",
    "    if rules != None:\n",
    "        for rule in rules:\n",
    "            id_ = rule.id\n",
    "            stream_client.delete_rules(id_)\n",
    "        \n",
    "s_c = MyStreamingClient(bearer_token=BEARER)\n",
    "remove_rules(s_c)"
   ]
  },
  {
   "cell_type": "code",
   "execution_count": 4,
   "id": "75b0f7d0",
   "metadata": {},
   "outputs": [
    {
     "data": {
      "text/plain": [
       "Response(data=[StreamRule(value='(Musk OR Elon) -is:retweet lang:en has:geo place_country:US', tag=None, id='1595482959607263232')], includes={}, errors=[], meta={'sent': '2022-11-23T18:22:35.008Z', 'result_count': 1})"
      ]
     },
     "execution_count": 4,
     "metadata": {},
     "output_type": "execute_result"
    }
   ],
   "source": [
    "# All Rule\n",
    "s_c.add_rules(tweepy.StreamRule('(Musk OR Elon) -is:retweet lang:en has:geo place_country:US'))\n",
    "\n",
    "s_c.get_rules()"
   ]
  },
  {
   "cell_type": "code",
   "execution_count": 5,
   "id": "6f7ac063",
   "metadata": {},
   "outputs": [
    {
     "name": "stdout",
     "output_type": "stream",
     "text": [
      "2022-11-23 13:22:35.065030\n"
     ]
    },
    {
     "name": "stderr",
     "output_type": "stream",
     "text": [
      "Stream connection closed by Twitter\n"
     ]
    },
    {
     "name": "stdout",
     "output_type": "stream",
     "text": [
      "2022-11-23 15:22:42.523561\n"
     ]
    }
   ],
   "source": [
    "import datetime as dt\n",
    "print(dt.datetime.now())\n",
    "s_c.filter(tweet_fields=[\"entities\", 'geo', 'created_at'], \n",
    "           place_fields=[\"id\",\"geo\",\"name\",\"country_code\",\"place_type\",\"full_name\",\"country\"],\n",
    "          expansions=['geo.place_id'])\n",
    "print(dt.datetime.now())"
   ]
  },
  {
   "cell_type": "markdown",
   "id": "472d696f",
   "metadata": {},
   "source": [
    "---"
   ]
  },
  {
   "cell_type": "code",
   "execution_count": 10,
   "id": "1afffe44",
   "metadata": {},
   "outputs": [],
   "source": [
    "data_json = []"
   ]
  },
  {
   "cell_type": "code",
   "execution_count": 11,
   "id": "40d18afc",
   "metadata": {},
   "outputs": [],
   "source": [
    "f = open('output_geotag_day1.json')\n",
    "\n",
    "for line in f:\n",
    "    try:\n",
    "        data_json.append(json.loads(line))\n",
    "    # Discard Tweets with invalid chars\n",
    "    except:\n",
    "        pass\n",
    "    \n",
    "f.close()"
   ]
  },
  {
   "cell_type": "code",
   "execution_count": 12,
   "id": "ff258a90",
   "metadata": {},
   "outputs": [
    {
     "name": "stdout",
     "output_type": "stream",
     "text": [
      "312 Tweets out of 312 (100.00%)\n"
     ]
    }
   ],
   "source": [
    "geo_count = 0\n",
    "for tweet in data_json:\n",
    "    if len(tweet['data']['geo']) > 0:\n",
    "        geo_count += 1\n",
    "#         print(tweet['data'])\n",
    "#         print()\n",
    "        \n",
    "print(\"{} Tweets out of {} ({:.2%})\".format(geo_count, len(data_json), geo_count/len(data_json)))"
   ]
  },
  {
   "cell_type": "code",
   "execution_count": null,
   "id": "85842a8c",
   "metadata": {},
   "outputs": [],
   "source": []
  }
 ],
 "metadata": {
  "kernelspec": {
   "display_name": "Python 3",
   "language": "python",
   "name": "python3"
  },
  "language_info": {
   "codemirror_mode": {
    "name": "ipython",
    "version": 3
   },
   "file_extension": ".py",
   "mimetype": "text/x-python",
   "name": "python",
   "nbconvert_exporter": "python",
   "pygments_lexer": "ipython3",
   "version": "3.8.8"
  }
 },
 "nbformat": 4,
 "nbformat_minor": 5
}
