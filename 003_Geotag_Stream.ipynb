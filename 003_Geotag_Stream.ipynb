{
 "cells": [
  {
   "cell_type": "code",
   "execution_count": 50,
   "id": "b2220a83",
   "metadata": {},
   "outputs": [],
   "source": [
    "import tweepy\n",
    "from tweepy import OAuthHandler\n",
    "from tweepy import API\n",
    "\n",
    "import time\n",
    "from tweepy import Stream\n",
    "from dateutil import parser\n",
    "import json\n",
    "\n",
    "# Jack Nugent Keys\n",
    "C_KEY = 'qDLzDR1kgKZrwc0nfCiknCNak'\n",
    "C_SECRET = '0siNqGf4CSQVM2EL2JTYKq0fqBN7VXtTXv2MSyUAiiX5V1DBeG'\n",
    "A_TOKEN_KEY = '762757536827121664-YNdvEO2FsulfLcjUJcezb5OMRx3Nlgs'\n",
    "A_TOKEN_SECRET = '88DYUdSwCfWmNlBWbY9It8uFqajxE7NMMRS4moZbdjz4k'\n",
    "BEARER = \"AAAAAAAAAAAAAAAAAAAAAOCnhQEAAAAABJxPmDWLGJXfFdBa9Nprs%2BfFHus%3De6Qt9gjlzObpDy4HIWJWMQUXXLE6nkNUF3Drkv6QLkZezBn4JU\""
   ]
  },
  {
   "cell_type": "code",
   "execution_count": 68,
   "id": "b7e7a3f5",
   "metadata": {},
   "outputs": [],
   "source": [
    "class MyStreamingClient(tweepy.StreamingClient):\n",
    "    def __init__(self, bearer_token, time_limit=240):\n",
    "        self.start_time = time.time()\n",
    "        self.limit = time_limit\n",
    "        self.outFile = open('output_geotag.json', 'w')\n",
    "        super(MyStreamingClient, self).__init__(bearer_token)\n",
    "        \n",
    "    def on_data(self, data_item):\n",
    "        \n",
    "        ### Modify on_data\n",
    "        dict_data = {}\n",
    "        try:\n",
    "            data = json.loads(data_item)\n",
    "            if data['coordinates'] or data['geo']:\n",
    "                print(\"COORDS:\",data['coordinates'], '\\nGEO:', data['geo'])\n",
    "                dict_data['created_at'] = parser.parse(data['created_at'], ignoretz=True)\n",
    "                dict_data['text'] = data['text']\n",
    "                dict_data['id_str'] = data['id_str']\n",
    "                dict_data['user_id'] = data['user']['id_str']\n",
    "                dict_data['user_name'] = data['user']['id_str']\n",
    "                dict_data['lat'] = str(data['coordinates']['coordinates'][1])\n",
    "                dict_data['lon'] = str(data['coordinates']['coordinates'][0])\n",
    "                dict_data['language'] = data['user']['lang']\n",
    "                \n",
    "            print(dict_data)\n",
    "            self.outFile.write(json.dumps(dict_data))\n",
    "            self.outFile.write('\\n')\n",
    "        except:\n",
    "#             print('FAIL')\n",
    "            pass\n",
    "        ###\n",
    "\n",
    "        if (time.time() - self.start_time) < self.limit:\n",
    "            return True\n",
    "        else:\n",
    "            self.outFile.close()\n",
    "            self.disconnect()\n",
    "            return False\n",
    "        \n",
    "    def on_error(self, status):\n",
    "        print(status)\n",
    "\n",
    "# Function to remove all rules from an existing stream_client\n",
    "def remove_rules(stream_client):\n",
    "    rules = list(stream_client.get_rules())[0]\n",
    "    if rules != None:\n",
    "        for rule in rules:\n",
    "            id_ = rule.id\n",
    "            stream_client.delete_rules(id_)\n",
    "        \n",
    "s_c = MyStreamingClient(bearer_token=BEARER)\n",
    "remove_rules(s_c)"
   ]
  },
  {
   "cell_type": "code",
   "execution_count": 69,
   "id": "b4113c53",
   "metadata": {},
   "outputs": [
    {
     "data": {
      "text/plain": [
       "Response(data=[StreamRule(value='\"Musk\"', tag=None, id='1594758661976440832'), StreamRule(value='\"Elon\"', tag=None, id='1594758663717081088')], includes={}, errors=[], meta={'sent': '2022-11-21T18:24:29.473Z', 'result_count': 2})"
      ]
     },
     "execution_count": 69,
     "metadata": {},
     "output_type": "execute_result"
    }
   ],
   "source": [
    "s_c.add_rules(tweepy.StreamRule('\"Musk\"'))\n",
    "s_c.add_rules(tweepy.StreamRule('\"Elon\"'))\n",
    "\n",
    "s_c.get_rules()"
   ]
  },
  {
   "cell_type": "code",
   "execution_count": null,
   "id": "3e8417e2",
   "metadata": {},
   "outputs": [
    {
     "name": "stdout",
     "output_type": "stream",
     "text": [
      "2022-11-21 13:25:46.705833\n"
     ]
    }
   ],
   "source": [
    "import datetime as dt\n",
    "print(dt.datetime.now())\n",
    "s_c.filter(tweet_fields=\"entities\")"
   ]
  },
  {
   "cell_type": "markdown",
   "id": "18577168",
   "metadata": {},
   "source": [
    "https://shuzhanfan.github.io/2018/03/twitter-streaming-collection/"
   ]
  },
  {
   "cell_type": "code",
   "execution_count": null,
   "id": "8f24b620",
   "metadata": {},
   "outputs": [],
   "source": []
  }
 ],
 "metadata": {
  "kernelspec": {
   "display_name": "Python 3",
   "language": "python",
   "name": "python3"
  },
  "language_info": {
   "codemirror_mode": {
    "name": "ipython",
    "version": 3
   },
   "file_extension": ".py",
   "mimetype": "text/x-python",
   "name": "python",
   "nbconvert_exporter": "python",
   "pygments_lexer": "ipython3",
   "version": "3.8.8"
  }
 },
 "nbformat": 4,
 "nbformat_minor": 5
}
